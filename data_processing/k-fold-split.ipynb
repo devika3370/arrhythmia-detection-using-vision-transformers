{
 "cells": [
  {
   "cell_type": "markdown",
   "id": "fd9e43a2-1973-4c21-911d-5369eb3c1de8",
   "metadata": {},
   "source": [
    "##### Use this notebook with 'e6691-2024spring-project-DGJM-dg3370-jm5679/data/ecg_abnormal_cropped' and 'e6691-2024spring-project-DGJM-dg3370-jm5679/data/ecg_normal_cropped' \n",
    "##### These two directories contain subdirectories corresponding to each ECG image, which each contain 12 cropped images"
   ]
  },
  {
   "cell_type": "code",
   "execution_count": 1,
   "id": "e070f6b2-4ed6-4015-a554-781df5e4d265",
   "metadata": {
    "tags": []
   },
   "outputs": [],
   "source": [
    "import os\n",
    "import shutil\n",
    "from sklearn.model_selection import KFold"
   ]
  },
  {
   "cell_type": "code",
   "execution_count": 2,
   "id": "93d19741-01fc-402b-b911-c796e6eb6eef",
   "metadata": {
    "tags": []
   },
   "outputs": [],
   "source": [
    "def rename_and_copy(src, dst_folder, prefix):\n",
    "    \"\"\"\n",
    "    Copy files from src to dst_folder, renaming them to include the prefix.\n",
    "    \"\"\"\n",
    "    for img in os.listdir(src):\n",
    "        old_path = os.path.join(src, img)\n",
    "        new_name = f\"{prefix}-{img}\"\n",
    "        new_path = os.path.join(dst_folder, new_name)\n",
    "        shutil.copy2(old_path, new_path)\n",
    "        \n",
    "def organize_dataset(root_dir, classes, k_folds=5):\n",
    "    kf = KFold(n_splits=k_folds, shuffle=True, random_state=42)\n",
    "\n",
    "    for class_name in classes:\n",
    "        class_dir = os.path.join(root_dir, class_name)\n",
    "        all_folders = [os.path.join(class_dir, f) for f in os.listdir(class_dir) if os.path.isdir(os.path.join(class_dir, f))]\n",
    "        \n",
    "        for fold, (train_val_idx, test_idx) in enumerate(kf.split(all_folders)):\n",
    "            print(f\"Processing fold {fold+1} for class {class_name}\")\n",
    "\n",
    "            # Create fold specific directories\n",
    "            fold_dir = os.path.join(root_dir, f'fold_{fold+1}', class_name)\n",
    "            train_dir = os.path.join(fold_dir, 'train')\n",
    "            val_dir = os.path.join(fold_dir, 'val')\n",
    "            test_dir = os.path.join(fold_dir, 'test')\n",
    "            os.makedirs(train_dir, exist_ok=True)\n",
    "            os.makedirs(val_dir, exist_ok=True)\n",
    "            os.makedirs(test_dir, exist_ok=True)\n",
    "            \n",
    "            # Further split train_val into train and val (e.g., 80-20 split)\n",
    "            train_idx, val_idx = next(KFold(n_splits=5).split(train_val_idx))  # 80-20 split\n",
    "\n",
    "            # Organize test, train, and val directories\n",
    "            for idx in test_idx:\n",
    "                folder_name = os.path.basename(all_folders[idx])\n",
    "                dest_path = os.path.join(test_dir, folder_name)\n",
    "                os.makedirs(dest_path, exist_ok=True)\n",
    "                rename_and_copy(all_folders[idx], dest_path, folder_name)\n",
    "\n",
    "            for idx in train_idx:\n",
    "                folder_name = os.path.basename(all_folders[train_val_idx[idx]])\n",
    "                dest_path = os.path.join(train_dir, folder_name)\n",
    "                os.makedirs(dest_path, exist_ok=True)\n",
    "                rename_and_copy(all_folders[train_val_idx[idx]], dest_path, folder_name)\n",
    "\n",
    "            for idx in val_idx:\n",
    "                folder_name = os.path.basename(all_folders[train_val_idx[idx]])\n",
    "                dest_path = os.path.join(val_dir, folder_name)\n",
    "                os.makedirs(dest_path, exist_ok=True)\n",
    "                rename_and_copy(all_folders[train_val_idx[idx]], dest_path, folder_name)\n"
   ]
  },
  {
   "cell_type": "code",
   "execution_count": 3,
   "id": "c7ac7d44-900f-434c-8ed7-8e4616910af1",
   "metadata": {
    "tags": []
   },
   "outputs": [],
   "source": [
    "def remove_ipynb_checkpoints(root_dir):\n",
    "    for dirpath, dirnames, filenames in os.walk(root_dir, topdown=False):\n",
    "        if os.path.basename(dirpath) == '.ipynb_checkpoints':\n",
    "            shutil.rmtree(dirpath)\n",
    "            print(f\"Removed: {dirpath}\")\n",
    "\n",
    "# Usage\n",
    "root_dir = './data/ecg_normal_cropped/'\n",
    "remove_ipynb_checkpoints(root_dir)"
   ]
  },
  {
   "cell_type": "code",
   "execution_count": 4,
   "id": "ab88fdd9-77d6-4c2b-bd52-aeac7a1d2e53",
   "metadata": {},
   "outputs": [],
   "source": [
    "def remove_ipynb_checkpoints(root_dir):\n",
    "    for dirpath, dirnames, filenames in os.walk(root_dir, topdown=False):\n",
    "        if os.path.basename(dirpath) == '.ipynb_checkpoints':\n",
    "            shutil.rmtree(dirpath)\n",
    "            print(f\"Removed: {dirpath}\")\n",
    "\n",
    "# Usage\n",
    "root_dir = './data/ecg_abnormal_cropped/'\n",
    "remove_ipynb_checkpoints(root_dir)"
   ]
  },
  {
   "cell_type": "code",
   "execution_count": 5,
   "id": "a70b5ecd-f399-4e9d-a104-f60870a082e0",
   "metadata": {
    "tags": []
   },
   "outputs": [
    {
     "name": "stdout",
     "output_type": "stream",
     "text": [
      "Processing fold 1 for class ecg_abnormal_cropped\n",
      "Processing fold 2 for class ecg_abnormal_cropped\n",
      "Processing fold 3 for class ecg_abnormal_cropped\n",
      "Processing fold 4 for class ecg_abnormal_cropped\n",
      "Processing fold 5 for class ecg_abnormal_cropped\n",
      "Processing fold 1 for class ecg_normal_cropped\n",
      "Processing fold 2 for class ecg_normal_cropped\n",
      "Processing fold 3 for class ecg_normal_cropped\n",
      "Processing fold 4 for class ecg_normal_cropped\n",
      "Processing fold 5 for class ecg_normal_cropped\n"
     ]
    }
   ],
   "source": [
    "# Usage\n",
    "root_dir = './data'\n",
    "classes = ['ecg_abnormal_cropped', 'ecg_normal_cropped']\n",
    "organize_dataset(root_dir, classes)"
   ]
  },
  {
   "cell_type": "code",
   "execution_count": 6,
   "id": "5f059af6-912a-49aa-8ebd-acb4e6219f9a",
   "metadata": {
    "tags": []
   },
   "outputs": [
    {
     "name": "stdout",
     "output_type": "stream",
     "text": [
      "Removed directory and all contents: ./data/fold_4/ecg_normal_cropped\n",
      "Removed directory and all contents: ./data/fold_4/ecg_abnormal_cropped\n",
      "Removed directory and all contents: ./data/fold_3/ecg_normal_cropped\n",
      "Removed directory and all contents: ./data/fold_3/ecg_abnormal_cropped\n",
      "Removed directory and all contents: ./data/fold_1/ecg_normal_cropped\n",
      "Removed directory and all contents: ./data/fold_1/ecg_abnormal_cropped\n",
      "Removed directory and all contents: ./data/fold_5/ecg_normal_cropped\n",
      "Removed directory and all contents: ./data/fold_5/ecg_abnormal_cropped\n",
      "Removed directory and all contents: ./data/fold_2/ecg_normal_cropped\n",
      "Removed directory and all contents: ./data/fold_2/ecg_abnormal_cropped\n"
     ]
    }
   ],
   "source": [
    "import os\n",
    "import shutil\n",
    "\n",
    "def restructure_and_remove_directories(base_dir):\n",
    "    folds = [f for f in os.listdir(base_dir) if f.startswith('fold_')]\n",
    "    sections = ['train', 'test', 'val']\n",
    "    classes = ['normal', 'abnormal']\n",
    "\n",
    "    for fold in folds:\n",
    "        fold_path = os.path.join(base_dir, fold)\n",
    "        for cls in classes:\n",
    "            # Define the top-level directory to remove after moving all images\n",
    "            class_top_dir = os.path.join(fold_path, f'ecg_{cls}_cropped')\n",
    "\n",
    "            for section in sections:\n",
    "                # Target directory for this section\n",
    "                target_dir = os.path.join(fold_path, section, cls)\n",
    "                os.makedirs(target_dir, exist_ok=True)\n",
    "\n",
    "                # Original directory for this section\n",
    "                original_section_dir = os.path.join(class_top_dir, section)\n",
    "\n",
    "                # Move images from original to target directory\n",
    "                if os.path.exists(original_section_dir):\n",
    "                    for root, dirs, files in os.walk(original_section_dir):\n",
    "                        for file in files:\n",
    "                            if file.endswith('.png'):\n",
    "                                src_path = os.path.join(root, file)\n",
    "                                dst_path = os.path.join(target_dir, file)\n",
    "                                shutil.move(src_path, dst_path)\n",
    "                                # print(f\"Moved {src_path} to {dst_path}\")\n",
    "\n",
    "            # Remove the top-level class directory after all sections are processed\n",
    "            if os.path.exists(class_top_dir):\n",
    "                shutil.rmtree(class_top_dir)\n",
    "                print(f\"Removed directory and all contents: {class_top_dir}\")\n",
    "\n",
    "# Usage\n",
    "base_dir = './data'\n",
    "restructure_and_remove_directories(base_dir)\n"
   ]
  }
 ],
 "metadata": {
  "kernelspec": {
   "display_name": "Python 3",
   "language": "python",
   "name": "python3"
  },
  "language_info": {
   "codemirror_mode": {
    "name": "ipython",
    "version": 3
   },
   "file_extension": ".py",
   "mimetype": "text/x-python",
   "name": "python",
   "nbconvert_exporter": "python",
   "pygments_lexer": "ipython3",
   "version": "3.7.12"
  }
 },
 "nbformat": 4,
 "nbformat_minor": 5
}
