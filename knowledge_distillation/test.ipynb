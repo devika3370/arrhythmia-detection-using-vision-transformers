{
 "cells": [
  {
   "cell_type": "code",
   "execution_count": 4,
   "id": "5d85f4dc-e797-4ae7-86f0-f1a821724393",
   "metadata": {},
   "outputs": [
    {
     "name": "stdout",
     "output_type": "stream",
     "text": [
      "Test DataLoader setup complete with 6204 images.\n"
     ]
    }
   ],
   "source": [
    "# Teacher Model (Beit)\n",
    "from torchvision import transforms, models\n",
    "from torch.utils.data import Dataset, DataLoader\n",
    "from PIL import Image\n",
    "import os\n",
    "\n",
    "# Define the dataset class\n",
    "class FoldDataset(Dataset):\n",
    "    def __init__(self, root_dir, section, transform=None):\n",
    "        \"\"\"\n",
    "        Initialize dataset.\n",
    "        root_dir: Directory with all the folds.\n",
    "        section: One of 'train', 'test', 'val'.\n",
    "        transform: PyTorch transforms for preprocessing.\n",
    "        \"\"\"\n",
    "        self.root_dir = root_dir\n",
    "        self.section = section\n",
    "        self.transform = transform\n",
    "        self.samples = []\n",
    "\n",
    "        # Load images from each fold\n",
    "        for fold in os.listdir(self.root_dir):\n",
    "            section_path = os.path.join(self.root_dir, fold, self.section)\n",
    "            for label in ['normal', 'abnormal']:\n",
    "                label_path = os.path.join(section_path, label)\n",
    "                if os.path.exists(label_path):\n",
    "                    for img in os.listdir(label_path):\n",
    "                        self.samples.append((os.path.join(label_path, img), 0 if label == 'normal' else 1))\n",
    "\n",
    "    def __len__(self):\n",
    "        return len(self.samples)\n",
    "\n",
    "    def __getitem__(self, idx):\n",
    "        img_path, label = self.samples[idx]\n",
    "        image = Image.open(img_path).convert('RGB')\n",
    "        if self.transform:\n",
    "            image = self.transform(image)\n",
    "        return image, label\n",
    "\n",
    "# Define image transformations\n",
    "transform = transforms.Compose([\n",
    "    transforms.Resize((224, 224)),\n",
    "    transforms.ToTensor(),\n",
    "    transforms.Normalize(mean=[0.485, 0.456, 0.406], std=[0.229, 0.224, 0.225])\n",
    "])\n",
    "\n",
    "# Setup model, device, optimizer (already defined in your context)\n",
    "base_dir = '../data'  # Make sure to define this properly\n",
    "\n",
    "# Create DataLoader for test dataset\n",
    "test_dataset = FoldDataset(root_dir=base_dir, section='test', transform=transform)\n",
    "test_loader = DataLoader(test_dataset, batch_size=64, shuffle=False)\n",
    "\n",
    "# Output to confirm setup\n",
    "print(f\"Test DataLoader setup complete with {len(test_dataset)} images.\")\n"
   ]
  },
  {
   "cell_type": "code",
   "execution_count": 6,
   "id": "3de0beaa-9b90-40b6-b5ae-9b465bb64381",
   "metadata": {},
   "outputs": [
    {
     "name": "stdout",
     "output_type": "stream",
     "text": [
      "Accuracy: 99.44%\n"
     ]
    }
   ],
   "source": [
    "import torch\n",
    "from transformers import BeitForImageClassification\n",
    "\n",
    "model = BeitForImageClassification.from_pretrained('microsoft/beit-base-patch16-224')\n",
    "model_path = '../trained_beit_model.pth'\n",
    "device = torch.device(\"cuda\")\n",
    "model.load_state_dict(torch.load(model_path))\n",
    "model.to(device)\n",
    "\n",
    "def evaluate_model(model, data_loader, device):\n",
    "    model.eval()  # Set the model to evaluation mode\n",
    "    total = 0\n",
    "    correct = 0\n",
    "\n",
    "    with torch.no_grad():  # Turn off gradients for validation, saves memory and computations\n",
    "        for images, labels in data_loader:\n",
    "            images, labels = images.to(device), labels.to(device)\n",
    "            outputs = model(images)\n",
    "            \n",
    "            # Get the maximum probabilities and the corresponding class indices from logits\n",
    "            _, predicted = torch.max(outputs.logits, 1)\n",
    "            \n",
    "            total += labels.size(0)\n",
    "            correct += (predicted == labels).sum().item()\n",
    "\n",
    "    accuracy = correct / total\n",
    "    print(f\"Accuracy: {accuracy * 100:.2f}%\")\n",
    "\n",
    "# Use the function to evaluate the model\n",
    "evaluate_model(model, test_loader, device)\n"
   ]
  },
  {
   "cell_type": "code",
   "execution_count": 10,
   "id": "c6069031-b164-4cc9-90f3-880191718138",
   "metadata": {},
   "outputs": [
    {
     "name": "stdout",
     "output_type": "stream",
     "text": [
      "Accuracy: 95.41%\n"
     ]
    }
   ],
   "source": [
    "# Student Model (Mobilenet CNN) from KD\n",
    "\n",
    "import torch\n",
    "from torch import nn\n",
    "from transformers import BeitForImageClassification\n",
    "\n",
    "model = models.mobilenet_v3_small(pretrained=True)\n",
    "model.classifier[3] = nn.Linear(model.classifier[3].in_features, 1000)\n",
    "model_path = '../student_model_weights.pth'\n",
    "device = torch.device(\"cuda\")\n",
    "model.load_state_dict(torch.load(model_path))\n",
    "model.to(device)\n",
    "\n",
    "def evaluate_model(model, data_loader, device):\n",
    "    model.eval()  # Set the model to evaluation mode\n",
    "    total = 0\n",
    "    correct = 0\n",
    "\n",
    "    with torch.no_grad():  # Turn off gradients for validation, saves memory and computations\n",
    "        for images, labels in data_loader:\n",
    "            images, labels = images.to(device), labels.to(device)\n",
    "            outputs = model(images)\n",
    "            \n",
    "            # Get the maximum probabilities and the corresponding class indices from logits\n",
    "            _, predicted = torch.max(outputs, 1)\n",
    "            \n",
    "            total += labels.size(0)\n",
    "            correct += (predicted == labels).sum().item()\n",
    "\n",
    "    accuracy = correct / total\n",
    "    print(f\"Accuracy: {accuracy * 100:.2f}%\")\n",
    "\n",
    "# Use the function to evaluate the model\n",
    "evaluate_model(model, test_loader, device)\n"
   ]
  },
  {
   "cell_type": "code",
   "execution_count": null,
   "id": "536a8348-698c-4952-95a7-635b99fbe88e",
   "metadata": {},
   "outputs": [],
   "source": []
  }
 ],
 "metadata": {
  "kernelspec": {
   "display_name": "Python 3",
   "language": "python",
   "name": "python3"
  },
  "language_info": {
   "codemirror_mode": {
    "name": "ipython",
    "version": 3
   },
   "file_extension": ".py",
   "mimetype": "text/x-python",
   "name": "python",
   "nbconvert_exporter": "python",
   "pygments_lexer": "ipython3",
   "version": "3.7.12"
  }
 },
 "nbformat": 4,
 "nbformat_minor": 5
}
